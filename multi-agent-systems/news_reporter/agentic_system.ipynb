{
 "cells": [
  {
   "cell_type": "markdown",
   "metadata": {},
   "source": [
    "## News Reporter Agentic System Using Semantic Kernel SDK and Azure AI Agent Service"
   ]
  },
  {
   "cell_type": "code",
   "execution_count": 14,
   "metadata": {},
   "outputs": [
    {
     "name": "stdout",
     "output_type": "stream",
     "text": [
      "Defaulting to user installation because normal site-packages is not writeable\n",
      "Requirement already satisfied: semantic-kernel in /Users/1989deny/Library/Python/3.13/lib/python/site-packages (1.28.1)\n",
      "Requirement already satisfied: aiohttp~=3.8 in /Users/1989deny/Library/Python/3.13/lib/python/site-packages (from semantic-kernel) (3.12.15)\n",
      "Requirement already satisfied: cloudevents~=1.0 in /Users/1989deny/Library/Python/3.13/lib/python/site-packages (from semantic-kernel) (1.12.0)\n",
      "Requirement already satisfied: pydantic!=2.10.0,!=2.10.1,!=2.10.2,!=2.10.3,<2.12,>=2.0 in /Users/1989deny/Library/Python/3.13/lib/python/site-packages (from semantic-kernel) (2.11.7)\n",
      "Requirement already satisfied: pydantic-settings~=2.0 in /Users/1989deny/Library/Python/3.13/lib/python/site-packages (from semantic-kernel) (2.10.1)\n",
      "Requirement already satisfied: defusedxml~=0.7 in /Users/1989deny/Library/Python/3.13/lib/python/site-packages (from semantic-kernel) (0.7.1)\n",
      "Requirement already satisfied: azure-identity>=1.13 in /Users/1989deny/Library/Python/3.13/lib/python/site-packages (from semantic-kernel) (1.23.1)\n",
      "Requirement already satisfied: numpy>=1.26.0 in /Users/1989deny/Library/Python/3.13/lib/python/site-packages (from semantic-kernel) (2.3.2)\n",
      "Requirement already satisfied: openai>=1.67 in /Users/1989deny/Library/Python/3.13/lib/python/site-packages (from semantic-kernel) (1.98.0)\n",
      "Requirement already satisfied: openapi_core<0.20,>=0.18 in /Users/1989deny/Library/Python/3.13/lib/python/site-packages (from semantic-kernel) (0.19.5)\n",
      "Requirement already satisfied: websockets<16,>=13 in /Users/1989deny/Library/Python/3.13/lib/python/site-packages (from semantic-kernel) (15.0.1)\n",
      "Requirement already satisfied: aiortc>=1.9.0 in /Users/1989deny/Library/Python/3.13/lib/python/site-packages (from semantic-kernel) (1.13.0)\n",
      "Requirement already satisfied: opentelemetry-api~=1.24 in /Users/1989deny/Library/Python/3.13/lib/python/site-packages (from semantic-kernel) (1.36.0)\n",
      "Requirement already satisfied: opentelemetry-sdk~=1.24 in /Users/1989deny/Library/Python/3.13/lib/python/site-packages (from semantic-kernel) (1.36.0)\n",
      "Requirement already satisfied: prance~=23.6.21.0 in /Users/1989deny/Library/Python/3.13/lib/python/site-packages (from semantic-kernel) (23.6.21.0)\n",
      "Requirement already satisfied: pybars4~=0.9 in /Users/1989deny/Library/Python/3.13/lib/python/site-packages (from semantic-kernel) (0.9.13)\n",
      "Requirement already satisfied: jinja2~=3.1 in /Users/1989deny/Library/Python/3.13/lib/python/site-packages (from semantic-kernel) (3.1.6)\n",
      "Requirement already satisfied: nest-asyncio~=1.6 in /Users/1989deny/Library/Python/3.13/lib/python/site-packages (from semantic-kernel) (1.6.0)\n",
      "Requirement already satisfied: scipy>=1.15.1 in /Users/1989deny/Library/Python/3.13/lib/python/site-packages (from semantic-kernel) (1.16.1)\n",
      "Requirement already satisfied: aiohappyeyeballs>=2.5.0 in /Users/1989deny/Library/Python/3.13/lib/python/site-packages (from aiohttp~=3.8->semantic-kernel) (2.6.1)\n",
      "Requirement already satisfied: aiosignal>=1.4.0 in /Users/1989deny/Library/Python/3.13/lib/python/site-packages (from aiohttp~=3.8->semantic-kernel) (1.4.0)\n",
      "Requirement already satisfied: attrs>=17.3.0 in /Users/1989deny/Library/Python/3.13/lib/python/site-packages (from aiohttp~=3.8->semantic-kernel) (25.3.0)\n",
      "Requirement already satisfied: frozenlist>=1.1.1 in /Users/1989deny/Library/Python/3.13/lib/python/site-packages (from aiohttp~=3.8->semantic-kernel) (1.7.0)\n",
      "Requirement already satisfied: multidict<7.0,>=4.5 in /Users/1989deny/Library/Python/3.13/lib/python/site-packages (from aiohttp~=3.8->semantic-kernel) (6.6.3)\n",
      "Requirement already satisfied: propcache>=0.2.0 in /Users/1989deny/Library/Python/3.13/lib/python/site-packages (from aiohttp~=3.8->semantic-kernel) (0.3.2)\n",
      "Requirement already satisfied: yarl<2.0,>=1.17.0 in /Users/1989deny/Library/Python/3.13/lib/python/site-packages (from aiohttp~=3.8->semantic-kernel) (1.20.1)\n",
      "Requirement already satisfied: aioice<1.0.0,>=0.10.1 in /Users/1989deny/Library/Python/3.13/lib/python/site-packages (from aiortc>=1.9.0->semantic-kernel) (0.10.1)\n",
      "Requirement already satisfied: av<15.0.0,>=14.0.0 in /Users/1989deny/Library/Python/3.13/lib/python/site-packages (from aiortc>=1.9.0->semantic-kernel) (14.4.0)\n",
      "Requirement already satisfied: cffi>=1.0.0 in /Users/1989deny/Library/Python/3.13/lib/python/site-packages (from aiortc>=1.9.0->semantic-kernel) (1.17.1)\n",
      "Requirement already satisfied: cryptography>=44.0.0 in /Users/1989deny/Library/Python/3.13/lib/python/site-packages (from aiortc>=1.9.0->semantic-kernel) (45.0.5)\n",
      "Requirement already satisfied: google-crc32c>=1.1 in /Users/1989deny/Library/Python/3.13/lib/python/site-packages (from aiortc>=1.9.0->semantic-kernel) (1.7.1)\n",
      "Requirement already satisfied: pyee>=13.0.0 in /Users/1989deny/Library/Python/3.13/lib/python/site-packages (from aiortc>=1.9.0->semantic-kernel) (13.0.0)\n",
      "Requirement already satisfied: pylibsrtp>=0.10.0 in /Users/1989deny/Library/Python/3.13/lib/python/site-packages (from aiortc>=1.9.0->semantic-kernel) (0.12.0)\n",
      "Requirement already satisfied: pyopenssl>=25.0.0 in /Users/1989deny/Library/Python/3.13/lib/python/site-packages (from aiortc>=1.9.0->semantic-kernel) (25.1.0)\n",
      "Requirement already satisfied: azure-core>=1.31.0 in /Users/1989deny/Library/Python/3.13/lib/python/site-packages (from azure-identity>=1.13->semantic-kernel) (1.35.0)\n",
      "Requirement already satisfied: msal>=1.30.0 in /Users/1989deny/Library/Python/3.13/lib/python/site-packages (from azure-identity>=1.13->semantic-kernel) (1.33.0)\n",
      "Requirement already satisfied: msal-extensions>=1.2.0 in /Users/1989deny/Library/Python/3.13/lib/python/site-packages (from azure-identity>=1.13->semantic-kernel) (1.3.1)\n",
      "Requirement already satisfied: typing-extensions>=4.0.0 in /Users/1989deny/Library/Python/3.13/lib/python/site-packages (from azure-identity>=1.13->semantic-kernel) (4.14.1)\n",
      "Requirement already satisfied: deprecation<3.0,>=2.0 in /Users/1989deny/Library/Python/3.13/lib/python/site-packages (from cloudevents~=1.0->semantic-kernel) (2.1.0)\n",
      "Requirement already satisfied: MarkupSafe>=2.0 in /Users/1989deny/Library/Python/3.13/lib/python/site-packages (from jinja2~=3.1->semantic-kernel) (3.0.2)\n",
      "Requirement already satisfied: anyio<5,>=3.5.0 in /Users/1989deny/Library/Python/3.13/lib/python/site-packages (from openai>=1.67->semantic-kernel) (4.10.0)\n",
      "Requirement already satisfied: distro<2,>=1.7.0 in /Users/1989deny/Library/Python/3.13/lib/python/site-packages (from openai>=1.67->semantic-kernel) (1.9.0)\n",
      "Requirement already satisfied: httpx<1,>=0.23.0 in /Users/1989deny/Library/Python/3.13/lib/python/site-packages (from openai>=1.67->semantic-kernel) (0.28.1)\n",
      "Requirement already satisfied: jiter<1,>=0.4.0 in /Users/1989deny/Library/Python/3.13/lib/python/site-packages (from openai>=1.67->semantic-kernel) (0.10.0)\n",
      "Requirement already satisfied: sniffio in /Users/1989deny/Library/Python/3.13/lib/python/site-packages (from openai>=1.67->semantic-kernel) (1.3.1)\n",
      "Requirement already satisfied: tqdm>4 in /Users/1989deny/Library/Python/3.13/lib/python/site-packages (from openai>=1.67->semantic-kernel) (4.67.1)\n",
      "Requirement already satisfied: isodate in /Users/1989deny/Library/Python/3.13/lib/python/site-packages (from openapi_core<0.20,>=0.18->semantic-kernel) (0.7.2)\n",
      "Requirement already satisfied: jsonschema<5.0.0,>=4.18.0 in /Users/1989deny/Library/Python/3.13/lib/python/site-packages (from openapi_core<0.20,>=0.18->semantic-kernel) (4.25.0)\n",
      "Requirement already satisfied: jsonschema-path<0.4.0,>=0.3.1 in /Users/1989deny/Library/Python/3.13/lib/python/site-packages (from openapi_core<0.20,>=0.18->semantic-kernel) (0.3.4)\n",
      "Requirement already satisfied: more-itertools in /Users/1989deny/Library/Python/3.13/lib/python/site-packages (from openapi_core<0.20,>=0.18->semantic-kernel) (10.7.0)\n",
      "Requirement already satisfied: openapi-schema-validator<0.7.0,>=0.6.0 in /Users/1989deny/Library/Python/3.13/lib/python/site-packages (from openapi_core<0.20,>=0.18->semantic-kernel) (0.6.3)\n",
      "Requirement already satisfied: openapi-spec-validator<0.8.0,>=0.7.1 in /Users/1989deny/Library/Python/3.13/lib/python/site-packages (from openapi_core<0.20,>=0.18->semantic-kernel) (0.7.2)\n",
      "Requirement already satisfied: parse in /Users/1989deny/Library/Python/3.13/lib/python/site-packages (from openapi_core<0.20,>=0.18->semantic-kernel) (1.20.2)\n",
      "Requirement already satisfied: werkzeug<3.1.2 in /Users/1989deny/Library/Python/3.13/lib/python/site-packages (from openapi_core<0.20,>=0.18->semantic-kernel) (3.1.1)\n",
      "Requirement already satisfied: importlib-metadata<8.8.0,>=6.0 in /Users/1989deny/Library/Python/3.13/lib/python/site-packages (from opentelemetry-api~=1.24->semantic-kernel) (8.7.0)\n",
      "Requirement already satisfied: opentelemetry-semantic-conventions==0.57b0 in /Users/1989deny/Library/Python/3.13/lib/python/site-packages (from opentelemetry-sdk~=1.24->semantic-kernel) (0.57b0)\n",
      "Requirement already satisfied: chardet>=3.0 in /Users/1989deny/Library/Python/3.13/lib/python/site-packages (from prance~=23.6.21.0->semantic-kernel) (5.2.0)\n",
      "Requirement already satisfied: ruamel.yaml>=0.17.10 in /Users/1989deny/Library/Python/3.13/lib/python/site-packages (from prance~=23.6.21.0->semantic-kernel) (0.18.14)\n",
      "Requirement already satisfied: requests>=2.25 in /Users/1989deny/Library/Python/3.13/lib/python/site-packages (from prance~=23.6.21.0->semantic-kernel) (2.32.4)\n",
      "Requirement already satisfied: six~=1.15 in /Users/1989deny/Library/Python/3.13/lib/python/site-packages (from prance~=23.6.21.0->semantic-kernel) (1.17.0)\n",
      "Requirement already satisfied: packaging>=21.3 in /Users/1989deny/Library/Python/3.13/lib/python/site-packages (from prance~=23.6.21.0->semantic-kernel) (25.0)\n",
      "Requirement already satisfied: PyMeta3>=0.5.1 in /Users/1989deny/Library/Python/3.13/lib/python/site-packages (from pybars4~=0.9->semantic-kernel) (0.5.1)\n",
      "Requirement already satisfied: annotated-types>=0.6.0 in /Users/1989deny/Library/Python/3.13/lib/python/site-packages (from pydantic!=2.10.0,!=2.10.1,!=2.10.2,!=2.10.3,<2.12,>=2.0->semantic-kernel) (0.7.0)\n",
      "Requirement already satisfied: pydantic-core==2.33.2 in /Users/1989deny/Library/Python/3.13/lib/python/site-packages (from pydantic!=2.10.0,!=2.10.1,!=2.10.2,!=2.10.3,<2.12,>=2.0->semantic-kernel) (2.33.2)\n",
      "Requirement already satisfied: typing-inspection>=0.4.0 in /Users/1989deny/Library/Python/3.13/lib/python/site-packages (from pydantic!=2.10.0,!=2.10.1,!=2.10.2,!=2.10.3,<2.12,>=2.0->semantic-kernel) (0.4.1)\n",
      "Requirement already satisfied: python-dotenv>=0.21.0 in /Users/1989deny/Library/Python/3.13/lib/python/site-packages (from pydantic-settings~=2.0->semantic-kernel) (1.1.1)\n",
      "Requirement already satisfied: dnspython>=2.0.0 in /Users/1989deny/Library/Python/3.13/lib/python/site-packages (from aioice<1.0.0,>=0.10.1->aiortc>=1.9.0->semantic-kernel) (2.7.0)\n",
      "Requirement already satisfied: ifaddr>=0.2.0 in /Users/1989deny/Library/Python/3.13/lib/python/site-packages (from aioice<1.0.0,>=0.10.1->aiortc>=1.9.0->semantic-kernel) (0.2.0)\n",
      "Requirement already satisfied: idna>=2.8 in /Users/1989deny/Library/Python/3.13/lib/python/site-packages (from anyio<5,>=3.5.0->openai>=1.67->semantic-kernel) (3.10)\n",
      "Requirement already satisfied: pycparser in /Users/1989deny/Library/Python/3.13/lib/python/site-packages (from cffi>=1.0.0->aiortc>=1.9.0->semantic-kernel) (2.22)\n",
      "Requirement already satisfied: certifi in /Users/1989deny/Library/Python/3.13/lib/python/site-packages (from httpx<1,>=0.23.0->openai>=1.67->semantic-kernel) (2025.8.3)\n",
      "Requirement already satisfied: httpcore==1.* in /Users/1989deny/Library/Python/3.13/lib/python/site-packages (from httpx<1,>=0.23.0->openai>=1.67->semantic-kernel) (1.0.9)\n",
      "Requirement already satisfied: h11>=0.16 in /Users/1989deny/Library/Python/3.13/lib/python/site-packages (from httpcore==1.*->httpx<1,>=0.23.0->openai>=1.67->semantic-kernel) (0.16.0)\n",
      "Requirement already satisfied: zipp>=3.20 in /Users/1989deny/Library/Python/3.13/lib/python/site-packages (from importlib-metadata<8.8.0,>=6.0->opentelemetry-api~=1.24->semantic-kernel) (3.23.0)\n",
      "Requirement already satisfied: jsonschema-specifications>=2023.03.6 in /Users/1989deny/Library/Python/3.13/lib/python/site-packages (from jsonschema<5.0.0,>=4.18.0->openapi_core<0.20,>=0.18->semantic-kernel) (2025.4.1)\n",
      "Requirement already satisfied: referencing>=0.28.4 in /Users/1989deny/Library/Python/3.13/lib/python/site-packages (from jsonschema<5.0.0,>=4.18.0->openapi_core<0.20,>=0.18->semantic-kernel) (0.36.2)\n",
      "Requirement already satisfied: rpds-py>=0.7.1 in /Users/1989deny/Library/Python/3.13/lib/python/site-packages (from jsonschema<5.0.0,>=4.18.0->openapi_core<0.20,>=0.18->semantic-kernel) (0.26.0)\n",
      "Requirement already satisfied: PyYAML>=5.1 in /Users/1989deny/Library/Python/3.13/lib/python/site-packages (from jsonschema-path<0.4.0,>=0.3.1->openapi_core<0.20,>=0.18->semantic-kernel) (6.0.2)\n",
      "Requirement already satisfied: pathable<0.5.0,>=0.4.1 in /Users/1989deny/Library/Python/3.13/lib/python/site-packages (from jsonschema-path<0.4.0,>=0.3.1->openapi_core<0.20,>=0.18->semantic-kernel) (0.4.4)\n",
      "Requirement already satisfied: PyJWT<3,>=1.0.0 in /Users/1989deny/Library/Python/3.13/lib/python/site-packages (from PyJWT[crypto]<3,>=1.0.0->msal>=1.30.0->azure-identity>=1.13->semantic-kernel) (2.10.1)\n",
      "Requirement already satisfied: rfc3339-validator in /Users/1989deny/Library/Python/3.13/lib/python/site-packages (from openapi-schema-validator<0.7.0,>=0.6.0->openapi_core<0.20,>=0.18->semantic-kernel) (0.1.4)\n",
      "Requirement already satisfied: lazy-object-proxy<2.0.0,>=1.7.1 in /Users/1989deny/Library/Python/3.13/lib/python/site-packages (from openapi-spec-validator<0.8.0,>=0.7.1->openapi_core<0.20,>=0.18->semantic-kernel) (1.11.0)\n",
      "Requirement already satisfied: charset_normalizer<4,>=2 in /Users/1989deny/Library/Python/3.13/lib/python/site-packages (from requests>=2.25->prance~=23.6.21.0->semantic-kernel) (3.4.2)\n",
      "Requirement already satisfied: urllib3<3,>=1.21.1 in /Users/1989deny/Library/Python/3.13/lib/python/site-packages (from requests>=2.25->prance~=23.6.21.0->semantic-kernel) (2.5.0)\n",
      "Requirement already satisfied: ruamel.yaml.clib>=0.2.7 in /Users/1989deny/Library/Python/3.13/lib/python/site-packages (from ruamel.yaml>=0.17.10->prance~=23.6.21.0->semantic-kernel) (0.2.12)\n",
      "\n",
      "\u001b[1m[\u001b[0m\u001b[34;49mnotice\u001b[0m\u001b[1;39;49m]\u001b[0m\u001b[39;49m A new release of pip is available: \u001b[0m\u001b[31;49m25.0.1\u001b[0m\u001b[39;49m -> \u001b[0m\u001b[32;49m25.2\u001b[0m\n",
      "\u001b[1m[\u001b[0m\u001b[34;49mnotice\u001b[0m\u001b[1;39;49m]\u001b[0m\u001b[39;49m To update, run: \u001b[0m\u001b[32;49mpython3.13 -m pip install --upgrade pip\u001b[0m\n",
      "Note: you may need to restart the kernel to use updated packages.\n"
     ]
    }
   ],
   "source": [
    "%pip install semantic-kernel"
   ]
  },
  {
   "cell_type": "code",
   "execution_count": 15,
   "metadata": {},
   "outputs": [
    {
     "name": "stdout",
     "output_type": "stream",
     "text": [
      "Defaulting to user installation because normal site-packages is not writeable\n",
      "Requirement already satisfied: azure-ai-projects in /Users/1989deny/Library/Python/3.13/lib/python/site-packages (1.0.0b7)\n",
      "Requirement already satisfied: azure-identity in /Users/1989deny/Library/Python/3.13/lib/python/site-packages (1.23.1)\n",
      "Requirement already satisfied: isodate>=0.6.1 in /Users/1989deny/Library/Python/3.13/lib/python/site-packages (from azure-ai-projects) (0.7.2)\n",
      "Requirement already satisfied: azure-core>=1.30.0 in /Users/1989deny/Library/Python/3.13/lib/python/site-packages (from azure-ai-projects) (1.35.0)\n",
      "Requirement already satisfied: typing-extensions>=4.12.2 in /Users/1989deny/Library/Python/3.13/lib/python/site-packages (from azure-ai-projects) (4.14.1)\n",
      "Requirement already satisfied: cryptography>=2.5 in /Users/1989deny/Library/Python/3.13/lib/python/site-packages (from azure-identity) (45.0.5)\n",
      "Requirement already satisfied: msal>=1.30.0 in /Users/1989deny/Library/Python/3.13/lib/python/site-packages (from azure-identity) (1.33.0)\n",
      "Requirement already satisfied: msal-extensions>=1.2.0 in /Users/1989deny/Library/Python/3.13/lib/python/site-packages (from azure-identity) (1.3.1)\n",
      "Requirement already satisfied: requests>=2.21.0 in /Users/1989deny/Library/Python/3.13/lib/python/site-packages (from azure-core>=1.30.0->azure-ai-projects) (2.32.4)\n",
      "Requirement already satisfied: six>=1.11.0 in /Users/1989deny/Library/Python/3.13/lib/python/site-packages (from azure-core>=1.30.0->azure-ai-projects) (1.17.0)\n",
      "Requirement already satisfied: cffi>=1.14 in /Users/1989deny/Library/Python/3.13/lib/python/site-packages (from cryptography>=2.5->azure-identity) (1.17.1)\n",
      "Requirement already satisfied: PyJWT<3,>=1.0.0 in /Users/1989deny/Library/Python/3.13/lib/python/site-packages (from PyJWT[crypto]<3,>=1.0.0->msal>=1.30.0->azure-identity) (2.10.1)\n",
      "Requirement already satisfied: pycparser in /Users/1989deny/Library/Python/3.13/lib/python/site-packages (from cffi>=1.14->cryptography>=2.5->azure-identity) (2.22)\n",
      "Requirement already satisfied: charset_normalizer<4,>=2 in /Users/1989deny/Library/Python/3.13/lib/python/site-packages (from requests>=2.21.0->azure-core>=1.30.0->azure-ai-projects) (3.4.2)\n",
      "Requirement already satisfied: idna<4,>=2.5 in /Users/1989deny/Library/Python/3.13/lib/python/site-packages (from requests>=2.21.0->azure-core>=1.30.0->azure-ai-projects) (3.10)\n",
      "Requirement already satisfied: urllib3<3,>=1.21.1 in /Users/1989deny/Library/Python/3.13/lib/python/site-packages (from requests>=2.21.0->azure-core>=1.30.0->azure-ai-projects) (2.5.0)\n",
      "Requirement already satisfied: certifi>=2017.4.17 in /Users/1989deny/Library/Python/3.13/lib/python/site-packages (from requests>=2.21.0->azure-core>=1.30.0->azure-ai-projects) (2025.8.3)\n",
      "\n",
      "\u001b[1m[\u001b[0m\u001b[34;49mnotice\u001b[0m\u001b[1;39;49m]\u001b[0m\u001b[39;49m A new release of pip is available: \u001b[0m\u001b[31;49m25.0.1\u001b[0m\u001b[39;49m -> \u001b[0m\u001b[32;49m25.2\u001b[0m\n",
      "\u001b[1m[\u001b[0m\u001b[34;49mnotice\u001b[0m\u001b[1;39;49m]\u001b[0m\u001b[39;49m To update, run: \u001b[0m\u001b[32;49mpython3.13 -m pip install --upgrade pip\u001b[0m\n",
      "Note: you may need to restart the kernel to use updated packages.\n"
     ]
    }
   ],
   "source": [
    "%pip install azure-ai-projects azure-identity"
   ]
  },
  {
   "cell_type": "markdown",
   "metadata": {},
   "source": [
    "#### Importing important libraries and utilities"
   ]
  },
  {
   "cell_type": "code",
   "execution_count": 16,
   "metadata": {},
   "outputs": [],
   "source": [
    "from semantic_kernel import Kernel\n",
    "import os\n",
    "import asyncio\n",
    "from semantic_kernel.connectors.ai.open_ai import AzureChatCompletion\n",
    "from dotenv import load_dotenv\n",
    "from semantic_kernel.planners import SequentialPlanner\n",
    "from typing import Annotated\n",
    "from semantic_kernel.functions.kernel_function_decorator import kernel_function\n",
    "from azure.ai.projects import AIProjectClient\n",
    "from azure.identity import DefaultAzureCredential\n",
    "from azure.ai.projects.models import BingGroundingTool\n",
    "\n"
   ]
  },
  {
   "cell_type": "markdown",
   "metadata": {},
   "source": [
    "#### Loading environment variables"
   ]
  },
  {
   "cell_type": "code",
   "execution_count": 22,
   "metadata": {},
   "outputs": [],
   "source": [
    "load_dotenv()\n",
    "# Azure AI Foundry Configuration\n",
    "azure_openai_key = os.getenv(\"AZURE_AI_FOUNDRY_API_KEY\")\n",
    "azure_openai_endpoint = os.getenv(\"AZURE_AI_FOUNDRY_ENDPOINT\")\n",
    "azure_openai_deployment_name = os.getenv(\"AZURE_AI_FOUNDRY_DEPLOYMENT\")\n",
    "azure_openai_api_version = os.getenv(\"AZURE_AI_FOUNDRY_API_VERSION\")\n",
    "\n",
    "# AI Project and Bing configuration (if using AI Projects)\n",
    "ai_project_endpoint= os.getenv(\"AZURE_AI_FOUNDRY_PORTAL_ENDPOINT\")\n",
    "bing_connection_name = os.getenv(\"BING_CONNECTION_NAME\")\n",
    "\n",
    "subscription_id = os.getenv(\"AZURE_SUBSCRIPTION_ID\")\n",
    "resource_group_name = os.getenv(\"AZURE_RESOURCE_GROUP\")\n",
    "project_name = os.getenv(\"AZURE_AI_FOUNDRY_PROJECT_NAME\")"
   ]
  },
  {
   "cell_type": "markdown",
   "metadata": {},
   "source": [
    "#### Creating an Azure AI Project Client to connect to Azure AI Agent Service (AI Foundry)"
   ]
  },
  {
   "cell_type": "code",
   "execution_count": 23,
   "metadata": {},
   "outputs": [],
   "source": [
    "project_client = AIProjectClient(\n",
    "        subscription_id=subscription_id,\n",
    "        resource_group_name=resource_group_name,\n",
    "        project_name=project_name,\n",
    "        endpoint=ai_project_endpoint,\n",
    "        credential=DefaultAzureCredential()\n",
    "  )"
   ]
  },
  {
   "cell_type": "markdown",
   "metadata": {},
   "source": [
    "#### Creating an \"Agent\" Plugin Class which will include native plugins to be fed into the Kernel"
   ]
  },
  {
   "cell_type": "code",
   "execution_count": null,
   "metadata": {},
   "outputs": [],
   "source": [
    "class Agents:\n",
    "    @kernel_function(\n",
    "        description=\"This function will be used to use an azure ai agent with web grounding capability using Bing Search API\",\n",
    "        name=\"WebSearchAgent\"\n",
    "    )\n",
    "    def web_search_agent(\n",
    "        self,\n",
    "        query: Annotated[str, \"The user query for which the contextual information needs to be fetched from the web\"]\n",
    "        \n",
    "    ) -> Annotated[str, \"The response from the web search agent\"]:\n",
    "        bing_connection = project_client.connections.get(connection_name=bing_connection_name)\n",
    "        conn_id = bing_connection.id\n",
    "        bing = BingGroundingTool(connection_id=conn_id)\n",
    "        \n",
    "        agent = project_client.agents.create_agent(\n",
    "        model=azure_openai_deployment_name,\n",
    "            name=\"bing-assistant\",\n",
    "            instructions=\"You are a helpful assistant\",\n",
    "            tools=bing.definitions,\n",
    "            headers={\"x-ms-enable-preview\": \"true\"},\n",
    "        )\n",
    "        \n",
    "        thread = project_client.agents.create_thread()\n",
    "            \n",
    "        message = project_client.agents.create_message(\n",
    "                thread_id=thread.id,\n",
    "                role=\"user\",\n",
    "                content=query,\n",
    "            )\n",
    "            \n",
    "        run = project_client.agents.create_and_process_run(thread_id=thread.id, assistant_id=agent.id)\n",
    "            \n",
    "        messages = project_client.agents.list_messages(thread_id=thread.id)\n",
    "        \n",
    "        print(\"Response from the web search agent:\")\n",
    "        print(\"\\n\")\n",
    "        print(messages.data[0].content[0].text.value)\n",
    "            \n",
    "        return messages.data[0].content[0].text.value\n",
    "       \n",
    "    \n",
    "    @kernel_function(\n",
    "       description=\"This function will use an azure ai agent to prepare a script for a news reporter based on latest information for a specific topic\",\n",
    "         name=\"NewsReporterAgent\"\n",
    "   )\n",
    "    def news_reporter_agent(\n",
    "        self,\n",
    "        topic: Annotated[str, \"The topic for which the latest information/news has been fetched\"],\n",
    "        latest_news: Annotated[str,\"The latest information for a specific topic\"]\n",
    "    ) -> Annotated[str, \"the response from the NewsReporterAgent which is the script for a news reporter\"]:\n",
    "\n",
    "        agent = project_client.agents.create_agent(\n",
    "        model=azure_openai_deployment_name,\n",
    "        name=\"news-reporter\",\n",
    "        instructions=\"\"\"You are a helpful assistant that is meant to prepare a script for a news reporter based on the latest information for a specific topic both of which you will be given.\n",
    "            The news channel is named MSinghTV and the news reporter is named John. You will be given the topic and the latest information for that topic. Prepare a script for the news reporter John based on the latest information for the topic.\"\"\",\n",
    "            headers={\"x-ms-enable-preview\": \"true\"},\n",
    "        )\n",
    "        \n",
    "        thread = project_client.agents.create_thread()\n",
    "            \n",
    "        message = project_client.agents.create_message(\n",
    "                thread_id=thread.id,\n",
    "                role=\"user\",\n",
    "                content=f\"\"\"The topic is {topic} and the latest information is {latest_news}\"\"\",\n",
    "            )\n",
    "            \n",
    "        run = project_client.agents.create_and_process_run(thread_id=thread.id, assistant_id=agent.id)\n",
    "            \n",
    "        messages = project_client.agents.list_messages(thread_id=thread.id)\n",
    "        \n",
    "        print(\"Script for the news reporter:\")\n",
    "        print(\"\\n\")    \n",
    "        print(messages.data[0].content[0].text.value)\n",
    "            \n",
    "        return messages.data[0].content[0].text.value\n",
    "        "
   ]
  },
  {
   "cell_type": "markdown",
   "metadata": {},
   "source": [
    "#### Creating the Kernel of the Semantic Kernel SDK"
   ]
  },
  {
   "cell_type": "code",
   "execution_count": null,
   "metadata": {},
   "outputs": [],
   "source": [
    "kernel = Kernel()\n",
    "\n",
    "service_id = \"default\"\n",
    "\n",
    "kernel.add_service(\n",
    "    AzureChatCompletion(\n",
    "        service_id=service_id,\n",
    "        api_key=azure_openai_key,\n",
    "        deployment_name=azure_openai_deployment_name,\n",
    "        endpoint=azure_openai_endpoint,\n",
    "        api_version=azure_openai_api_version\n",
    "    )\n",
    ")"
   ]
  },
  {
   "cell_type": "markdown",
   "metadata": {},
   "source": [
    "#### Creating Our Planner"
   ]
  },
  {
   "cell_type": "code",
   "execution_count": null,
   "metadata": {},
   "outputs": [],
   "source": [
    "planner = SequentialPlanner(\n",
    "    kernel,\n",
    "    service_id\n",
    ")"
   ]
  },
  {
   "cell_type": "markdown",
   "metadata": {},
   "source": [
    "#### Adding the Agentic Plugins as native plugins to our Kernel so created "
   ]
  },
  {
   "cell_type": "code",
   "execution_count": null,
   "metadata": {},
   "outputs": [],
   "source": [
    "agents_plugin = kernel.add_plugin(Agents(), \"Agents\")"
   ]
  },
  {
   "cell_type": "markdown",
   "metadata": {},
   "source": [
    "#### Setting the user query"
   ]
  },
  {
   "cell_type": "code",
   "execution_count": null,
   "metadata": {},
   "outputs": [],
   "source": [
    "goal = f\"prepare a news script for John on latest news for the world?\""
   ]
  },
  {
   "cell_type": "markdown",
   "metadata": {},
   "source": [
    "#### Invoking the Planner and printing its steps/thoughts"
   ]
  },
  {
   "cell_type": "code",
   "execution_count": null,
   "metadata": {},
   "outputs": [],
   "source": [
    "async def call_planner():\n",
    "    return await planner.create_plan(goal)\n",
    "\n",
    "sequential_plan = await call_planner()\n",
    "\n",
    "print(\"The plan's steps are:\")\n",
    "for step in sequential_plan._steps:\n",
    "    print(\n",
    "        f\"- {step.description.replace('.', '') if step.description else 'No description'} using {step.metadata.fully_qualified_name} with parameters: {step.parameters}\"\n",
    "    )"
   ]
  },
  {
   "cell_type": "markdown",
   "metadata": {},
   "source": [
    "#### Running the \"Plan\" generated by the Planner"
   ]
  },
  {
   "cell_type": "code",
   "execution_count": null,
   "metadata": {},
   "outputs": [],
   "source": [
    "async def generate_answer():\n",
    "    return await sequential_plan.invoke(kernel)\n",
    "\n",
    "result = await generate_answer()\n",
    "\n",
    "print(result)\n"
   ]
  }
 ],
 "metadata": {
  "kernelspec": {
   "display_name": "Python 3",
   "language": "python",
   "name": "python3"
  },
  "language_info": {
   "codemirror_mode": {
    "name": "ipython",
    "version": 3
   },
   "file_extension": ".py",
   "mimetype": "text/x-python",
   "name": "python",
   "nbconvert_exporter": "python",
   "pygments_lexer": "ipython3",
   "version": "3.13.3"
  }
 },
 "nbformat": 4,
 "nbformat_minor": 2
}
